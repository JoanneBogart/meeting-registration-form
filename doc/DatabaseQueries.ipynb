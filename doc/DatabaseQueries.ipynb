{
 "cells": [
  {
   "cell_type": "markdown",
   "metadata": {},
   "source": [
    "This notebook demonstrates how to make queries to the PostgreSQL database belonging\n",
    "to a Heroku app."
   ]
  },
  {
   "cell_type": "code",
   "execution_count": null,
   "metadata": {},
   "outputs": [],
   "source": [
    "from sqlalchemy import create_engine\n",
    "import pandas as pd"
   ]
  },
  {
   "cell_type": "markdown",
   "metadata": {},
   "source": [
    "The database connection information is read from a protected file, here called\n",
    "`database.ini`.  Only the owner should be able to access the file.\n",
    "The contents should be the value of the Heroku config variable `DATABASE_URL`,\n",
    "except that, depending on the version of sqlalchemy you're using, you may\n",
    "have to change the initial part `postgres:` to `postgresql:`\n",
    "\n",
    "If `database.ini` is not in the same folder as the notebook, specify\n",
    "the path."
   ]
  },
  {
   "cell_type": "code",
   "execution_count": null,
   "metadata": {},
   "outputs": [],
   "source": [
    "with open('database.ini','r') as f:\n",
    "    db_string = f.read().strip()\n",
    "\n",
    "    db = create_engine(db_string)"
   ]
  },
  {
   "cell_type": "code",
   "execution_count": null,
   "metadata": {},
   "outputs": [],
   "source": [
    "# This is to retrieve the full list of participants as a Pandas \n",
    "# dataframe\n",
    "with db.connect() as conn:\n",
    "    participants = pd.read_sql_query('select * from participants;', conn)"
   ]
  },
  {
   "cell_type": "code",
   "execution_count": null,
   "metadata": {},
   "outputs": [],
   "source": [
    "participants"
   ]
  },
  {
   "cell_type": "code",
   "execution_count": null,
   "metadata": {},
   "outputs": [],
   "source": [
    "# See what the columns in the table are\n",
    "participants.columns"
   ]
  },
  {
   "cell_type": "code",
   "execution_count": null,
   "metadata": {},
   "outputs": [],
   "source": [
    "# This is for instance to retrieve the list of mentors\n",
    "with db.connect() as conn:\n",
    "    mentors = pd.read_sql_query(\n",
    "        \"select last_name, mentor from participants where mentor = 'yes' ;\", conn)"
   ]
  },
  {
   "cell_type": "code",
   "execution_count": null,
   "metadata": {},
   "outputs": [],
   "source": [
    "mentors"
   ]
  },
  {
   "cell_type": "code",
   "execution_count": null,
   "metadata": {},
   "outputs": [],
   "source": [
    "# This will retrieve the list of mentees\n",
    "with db.connect() as conn:\n",
    "    mentees = pd.read_sql_query(\n",
    "        \"select last_name, mentee from participants where mentee = 'yes' ;\", conn)"
   ]
  },
  {
   "cell_type": "code",
   "execution_count": null,
   "metadata": {},
   "outputs": [],
   "source": [
    "mentees"
   ]
  },
  {
   "cell_type": "code",
   "execution_count": null,
   "metadata": {},
   "outputs": [],
   "source": [
    "# This is will retrieve the list of people wishing to volunteer as session facilitator\n",
    "with db.connect() as conn:\n",
    "    volunteer = pd.read_sql_query(\n",
    "        \"select first_name, last_name, volunteer from participants where volunteer = 'on' ;\", conn)"
   ]
  },
  {
   "cell_type": "code",
   "execution_count": null,
   "metadata": {},
   "outputs": [],
   "source": [
    "volunteer"
   ]
  }
 ],
 "metadata": {
  "kernelspec": {
   "display_name": "Python 3",
   "language": "python",
   "name": "python3"
  },
  "language_info": {
   "codemirror_mode": {
    "name": "ipython",
    "version": 3
   },
   "file_extension": ".py",
   "mimetype": "text/x-python",
   "name": "python",
   "nbconvert_exporter": "python",
   "pygments_lexer": "ipython3",
   "version": "3.7.4"
  }
 },
 "nbformat": 4,
 "nbformat_minor": 4
}
